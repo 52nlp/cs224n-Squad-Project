{
 "cells": [
  {
   "cell_type": "code",
   "execution_count": 17,
   "metadata": {},
   "outputs": [],
   "source": [
    "from __future__ import division\n",
    "import os\n",
    "import glob\n",
    "import numpy as np\n",
    "from random import randint\n"
   ]
  },
  {
   "cell_type": "markdown",
   "metadata": {},
   "source": [
    "## Break training set"
   ]
  },
  {
   "cell_type": "code",
   "execution_count": 18,
   "metadata": {},
   "outputs": [
    {
     "name": "stdout",
     "output_type": "stream",
     "text": [
      "86326\n"
     ]
    }
   ],
   "source": [
    "train_context = 'data/train.context'\n",
    "\n",
    "train_context_list = []\n",
    "\n",
    "with open(train_context) as fp:  \n",
    "    lines = fp.readlines()\n",
    "\n",
    "for line in lines:\n",
    "    train_context_list.append(line)\n",
    "\n",
    "print(len(train_context_list))"
   ]
  },
  {
   "cell_type": "code",
   "execution_count": 19,
   "metadata": {},
   "outputs": [
    {
     "name": "stdout",
     "output_type": "stream",
     "text": [
      "86326\n"
     ]
    }
   ],
   "source": [
    "train_question = 'data/train.question'\n",
    "\n",
    "train_question_list = []\n",
    "\n",
    "with open(train_question) as fp:  \n",
    "    lines = fp.readlines()\n",
    "\n",
    "for line in lines:\n",
    "    train_question_list.append(line)\n",
    "\n",
    "print(len(train_question_list))"
   ]
  },
  {
   "cell_type": "code",
   "execution_count": 20,
   "metadata": {},
   "outputs": [
    {
     "name": "stdout",
     "output_type": "stream",
     "text": [
      "86326\n"
     ]
    }
   ],
   "source": [
    "train_span = 'data/train.span'\n",
    "train_span_list = []\n",
    "\n",
    "with open(train_span) as fp:  \n",
    "    lines = fp.readlines()\n",
    "\n",
    "for line in lines:\n",
    "    train_span_list.append(line)\n",
    "\n",
    "print(len(train_span_list))"
   ]
  },
  {
   "cell_type": "code",
   "execution_count": 22,
   "metadata": {},
   "outputs": [
    {
     "name": "stdout",
     "output_type": "stream",
     "text": [
      "4662\n",
      "(20000, 20000, 20000)\n"
     ]
    }
   ],
   "source": [
    "new_size_train = 20000\n",
    "\n",
    "rand = randint(0,86326-new_size_train)\n",
    "print(rand)\n",
    "\n",
    "\n",
    "train_context_subset = train_context_list[rand:rand+new_size_train]\n",
    "train_question_subset = train_question_list[rand:rand+new_size_train]\n",
    "train_span_subset = train_span_list[rand:rand+new_size_train]\n",
    "print(len(train_context_subset), len(train_question_subset), len(train_span_subset))"
   ]
  },
  {
   "cell_type": "code",
   "execution_count": 23,
   "metadata": {},
   "outputs": [
    {
     "name": "stdout",
     "output_type": "stream",
     "text": [
      "['other researchers point out that finding a difference in disease prevalence between two socially defined groups does not necessarily imply genetic causation of the difference . they suggest that medical practices should maintain their focus on the individual rather than an individual \\'s membership to any group . they argue that overemphasizing genetic contributions to health disparities carries various risks such as reinforcing stereotypes , promoting racism or ignoring the contribution of non-genetic factors to health disparities . international epidemiological data show that living conditions rather than race make the biggest difference in health outcomes even for diseases that have \" race-specific \" treatments . some studies have found that patients are reluctant to accept racial categorization in medical practice .\\n', 'chivalry and the ethos of courtly love developed in royal and noble courts . this culture was expressed in the vernacular languages rather than latin , and comprised poems , stories , legends , and popular songs spread by troubadours , or wandering minstrels . often the stories were written down in the chansons de geste , or \" songs of great deeds \" , such as the song of roland or the song of hildebrand . secular and religious histories were also produced . geoffrey of monmouth ( d. c. 1155 ) composed his historia regum britanniae , a collection of stories and legends about arthur . other works were more clearly history , such as otto von freising \\'s ( d. 1158 ) gesta friderici imperatoris detailing the deeds of emperor frederick barbarossa , or william of malmesbury \\'s ( d. c. 1143 ) gesta regum on the kings of england .\\n', \"at the time of the roman empire , about two thousand years ago , various tribes , which spoke celtic dialects of the insular celtic group , were inhabiting the islands . the romans expanded their civilisation to control southern great britain but were impeded in advancing any further , building hadrian 's wall to mark the northern frontier of their empire in 122 ad . at that time , ireland was populated by a people known as hiberni , the northern third or so of great britain by a people known as picts and the southern two thirds by britons .\\n\"]\n"
     ]
    }
   ],
   "source": [
    "print(train_context_subset[:3])"
   ]
  },
  {
   "cell_type": "code",
   "execution_count": 24,
   "metadata": {},
   "outputs": [],
   "source": [
    "thefile = open('data/train_subset.context', 'w')\n",
    "\n",
    "for item in train_context_subset:\n",
    "    thefile.write(\"%s\" % item)"
   ]
  },
  {
   "cell_type": "code",
   "execution_count": 25,
   "metadata": {},
   "outputs": [],
   "source": [
    "thefile = open('data/train_subset.question', 'w')\n",
    "\n",
    "for item in train_question_subset:\n",
    "    thefile.write(\"%s\" % item)"
   ]
  },
  {
   "cell_type": "code",
   "execution_count": 26,
   "metadata": {},
   "outputs": [],
   "source": [
    "thefile = open('data/train_subset.span', 'w')\n",
    "\n",
    "for item in train_span_subset:\n",
    "    thefile.write(\"%s\" % item)"
   ]
  },
  {
   "cell_type": "markdown",
   "metadata": {},
   "source": [
    "## Repeat the steps on a dev subset"
   ]
  },
  {
   "cell_type": "code",
   "execution_count": null,
   "metadata": {},
   "outputs": [],
   "source": []
  }
 ],
 "metadata": {
  "kernelspec": {
   "display_name": "Python 2",
   "language": "python",
   "name": "python2"
  },
  "language_info": {
   "codemirror_mode": {
    "name": "ipython",
    "version": 2
   },
   "file_extension": ".py",
   "mimetype": "text/x-python",
   "name": "python",
   "nbconvert_exporter": "python",
   "pygments_lexer": "ipython2",
   "version": "2.7.12"
  }
 },
 "nbformat": 4,
 "nbformat_minor": 2
}
