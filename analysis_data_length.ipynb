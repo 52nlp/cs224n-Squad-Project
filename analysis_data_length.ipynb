{
 "cells": [
  {
   "cell_type": "code",
   "execution_count": 55,
   "metadata": {},
   "outputs": [],
   "source": [
    "from __future__ import division\n",
    "import os\n",
    "import glob\n",
    "import numpy as np"
   ]
  },
  {
   "cell_type": "markdown",
   "metadata": {},
   "source": [
    "## Train Context Length"
   ]
  },
  {
   "cell_type": "code",
   "execution_count": 11,
   "metadata": {},
   "outputs": [
    {
     "name": "stdout",
     "output_type": "stream",
     "text": [
      "86326\n"
     ]
    }
   ],
   "source": [
    "train_context = 'data/train.context'\n",
    "\n",
    "context_len = []\n",
    "\n",
    "with open(train_context) as fp:  \n",
    "    lines = fp.readlines()\n",
    "    print(len(lines))\n",
    "    for line in lines:\n",
    "        words = len(line.split())\n",
    "        context_len.append(words)\n"
   ]
  },
  {
   "cell_type": "code",
   "execution_count": 13,
   "metadata": {},
   "outputs": [
    {
     "name": "stdout",
     "output_type": "stream",
     "text": [
      "86326\n",
      "[187, 124, 132, 255, 304, 109, 112, 200, 140, 101]\n"
     ]
    }
   ],
   "source": [
    "print(len(context_len))\n",
    "print(context_len[:10])"
   ]
  },
  {
   "cell_type": "code",
   "execution_count": 15,
   "metadata": {},
   "outputs": [
    {
     "data": {
      "image/png": "[encoded data removed]",
      "text/plain": [
       "<matplotlib.figure.Figure at 0x7f8151474a10>"
      ]
     },
     "metadata": {},
     "output_type": "display_data"
    }
   ],
   "source": [
    "import matplotlib.pyplot as plt\n",
    "%matplotlib inline\n",
    "\n",
    "plt.plot(context_len)\n",
    "plt.ylabel('Context Length')\n",
    "plt.show()"
   ]
  },
  {
   "cell_type": "code",
   "execution_count": 24,
   "metadata": {},
   "outputs": [
    {
     "name": "stdout",
     "output_type": "stream",
     "text": [
      "('Min:   ', 22)\n",
      "('Max:   ', 766)\n",
      "('Mean:   ', 137.90535875634222)\n",
      "('25th percentile:   ', 102.0)\n",
      "('Median:            ', 127.0)\n",
      "('75th percentile:   ', 164.0)\n",
      "('95th percentile:   ', 245.0)\n",
      "('99th percentile:   ', 325.0)\n"
     ]
    }
   ],
   "source": [
    "context_array = np.array(context_len)\n",
    "\n",
    "print(\"Min:   \", np.min(context_array))\n",
    "print(\"Max:   \", np.max(context_array))\n",
    "print(\"Mean:   \", np.mean(context_array))\n",
    "print(\"25th percentile:   \", np.percentile(context_array, 25))\n",
    "print(\"Median:            \", np.median(context_array))\n",
    "print(\"75th percentile:   \", np.percentile(context_array, 75))\n",
    "print(\"95th percentile:   \", np.percentile(context_array, 95))\n",
    "print(\"99th percentile:   \", np.percentile(context_array, 99))"
   ]
  },
  {
   "cell_type": "markdown",
   "metadata": {},
   "source": [
    "## Train Question Length"
   ]
  },
  {
   "cell_type": "code",
   "execution_count": 19,
   "metadata": {},
   "outputs": [
    {
     "name": "stdout",
     "output_type": "stream",
     "text": [
      "86326\n"
     ]
    }
   ],
   "source": [
    "train_ques = 'data/train.question'\n",
    "\n",
    "ques_len = []\n",
    "train_ans = 'data/train.answer'\n",
    "\n",
    "ans_len = []\n",
    "\n",
    "with open(train_ans) as fp:  \n",
    "    lines = fp.readlines()\n",
    "    print(len(lines))\n",
    "    for line in lines:\n",
    "        words = len(line.split())\n",
    "        ans_len.append(words)\n",
    "with open(train_ques) as fp:  \n",
    "    lines = fp.readlines()\n",
    "    print(len(lines))\n",
    "    for line in lines:\n",
    "        words = len(line.split())\n",
    "        ques_len.append(words)"
   ]
  },
  {
   "cell_type": "code",
   "execution_count": 20,
   "metadata": {},
   "outputs": [
    {
     "name": "stdout",
     "output_type": "stream",
     "text": [
      "86326\n",
      "[9, 8, 13, 9, 11, 13, 6, 10, 12, 11]\n"
     ]
    }
   ],
   "source": [
    "print(len(ques_len))\n",
    "print(ques_len[:10])"
   ]
  },
  {
   "cell_type": "code",
   "execution_count": 21,
   "metadata": {},
   "outputs": [
    {
     "data": {
      "image/png": "[encoded data removed]",
      "text/plain": [
       "<matplotlib.figure.Figure at 0x7f81513f6ad0>"
      ]
     },
     "metadata": {},
     "output_type": "display_data"
    }
   ],
   "source": [
    "plt.plot(ques_len)\n",
    "plt.ylabel('Question Length')\n",
    "plt.show()"
   ]
  },
  {
   "cell_type": "code",
   "execution_count": 23,
   "metadata": {},
   "outputs": [
    {
     "name": "stdout",
     "output_type": "stream",
     "text": [
      "('Min:   ', 1)\n",
      "('Max:   ', 60)\n",
      "('Mean:   ', 11.290237008548988)\n",
      "('25th percentile:   ', 9.0)\n",
      "('Median:            ', 11.0)\n",
      "('75th percentile:   ', 13.0)\n",
      "('95th percentile:   ', 18.0)\n",
      "('99th percentile:   ', 23.0)\n"
     ]
    }
   ],
   "source": [
    "ques_array = np.array(ques_len)\n",
    "\n",
    "print(\"Min:   \", np.min(ques_array))\n",
    "print(\"Max:   \", np.max(ques_array))\n",
    "print(\"Mean:   \", np.mean(ques_array))\n",
    "print(\"25th percentile:   \", np.percentile(ques_array, 25))\n",
    "print(\"Median:            \", np.median(ques_array))\n",
    "print(\"75th percentile:   \", np.percentile(ques_array, 75))\n",
    "print(\"95th percentile:   \", np.percentile(ques_array, 95))\n",
    "print(\"99th percentile:   \", np.percentile(ques_array, 99))"
   ]
  },
  {
   "cell_type": "markdown",
   "metadata": {},
   "source": [
    "## Train Answer Length"
   ]
  },
  {
   "cell_type": "code",
   "execution_count": 37,
   "metadata": {},
   "outputs": [
    {
     "name": "stdout",
     "output_type": "stream",
     "text": [
      "86326\n"
     ]
    }
   ],
   "source": [
    "train_ans = 'data/train.answer'\n",
    "\n",
    "ans_len = []\n",
    "\n",
    "with open(train_ans) as fp:  \n",
    "    lines = fp.readlines()\n",
    "    print(len(lines))\n",
    "    for line in lines:\n",
    "        words = len(line.split())\n",
    "        ans_len.append(words)"
   ]
  },
  {
   "cell_type": "code",
   "execution_count": 38,
   "metadata": {},
   "outputs": [
    {
     "name": "stdout",
     "output_type": "stream",
     "text": [
      "86326\n",
      "[1, 1, 3, 1, 3, 2, 9, 3, 1, 2]\n"
     ]
    }
   ],
   "source": [
    "print(len(ans_len))\n",
    "print(ans_len[:10])"
   ]
  },
  {
   "cell_type": "code",
   "execution_count": 39,
   "metadata": {},
   "outputs": [
    {
     "data": {
      "image/png": "[encoded data removed]",
      "text/plain": [
       "<matplotlib.figure.Figure at 0x7f8150b85250>"
      ]
     },
     "metadata": {},
     "output_type": "display_data"
    }
   ],
   "source": [
    "plt.plot(ans_len)\n",
    "plt.ylabel('Answer Length')\n",
    "plt.show()"
   ]
  },
  {
   "cell_type": "code",
   "execution_count": 40,
   "metadata": {},
   "outputs": [
    {
     "name": "stdout",
     "output_type": "stream",
     "text": [
      "('Min:   ', 1)\n",
      "('Max:   ', 46)\n",
      "('Mean:   ', 3.3828510529851958)\n",
      "('25th percentile:   ', 1.0)\n",
      "('Median:            ', 2.0)\n",
      "('75th percentile:   ', 4.0)\n",
      "('95th percentile:   ', 11.0)\n",
      "('99th percentile:   ', 21.0)\n"
     ]
    }
   ],
   "source": [
    "ans_array = np.array(ans_len)\n",
    "\n",
    "print(\"Min:   \", np.min(ans_array))\n",
    "print(\"Max:   \", np.max(ans_array))\n",
    "print(\"Mean:   \", np.mean(ans_array))\n",
    "print(\"25th percentile:   \", np.percentile(ans_array, 25))\n",
    "print(\"Median:            \", np.median(ans_array))\n",
    "print(\"75th percentile:   \", np.percentile(ans_array, 75))\n",
    "print(\"95th percentile:   \", np.percentile(ans_array, 95))\n",
    "print(\"99th percentile:   \", np.percentile(ans_array, 99))"
   ]
  },
  {
   "cell_type": "markdown",
   "metadata": {},
   "source": [
    "## Answer Span"
   ]
  },
  {
   "cell_type": "code",
   "execution_count": 49,
   "metadata": {},
   "outputs": [
    {
     "name": "stdout",
     "output_type": "stream",
     "text": [
      "86326\n"
     ]
    }
   ],
   "source": [
    "train_ans = 'data/train.span'\n",
    "\n",
    "ans_start = []\n",
    "ans_end = []\n",
    "\n",
    "with open(train_ans) as fp:  \n",
    "    lines = fp.readlines()\n",
    "    print(len(lines))\n",
    "    for line in lines:\n",
    "        words = line.split()\n",
    "        ans_start.append(int(words[0]))\n",
    "        ans_end.append(int(words[1]))"
   ]
  },
  {
   "cell_type": "code",
   "execution_count": 50,
   "metadata": {},
   "outputs": [
    {
     "name": "stdout",
     "output_type": "stream",
     "text": [
      "86326\n",
      "[0, 32, 19, 206, 46, 47, 63, 184, 55, 73]\n",
      "[0, 32, 21, 206, 48, 48, 71, 186, 55, 74]\n"
     ]
    }
   ],
   "source": [
    "print(len(ans_start))\n",
    "print(ans_start[:10])\n",
    "print(ans_end[:10])"
   ]
  },
  {
   "cell_type": "code",
   "execution_count": 51,
   "metadata": {},
   "outputs": [
    {
     "data": {
      "image/png": "[encoded data removed]",
      "text/plain": [
       "<matplotlib.figure.Figure at 0x7f81883b8290>"
      ]
     },
     "metadata": {},
     "output_type": "display_data"
    }
   ],
   "source": [
    "plt.plot(ans_start)\n",
    "plt.ylabel('Answer Start')\n",
    "plt.show()"
   ]
  },
  {
   "cell_type": "code",
   "execution_count": 56,
   "metadata": {},
   "outputs": [
    {
     "name": "stdout",
     "output_type": "stream",
     "text": [
      "('Min:   ', 0)\n",
      "('Max:   ', 605)\n",
      "('Mean:   ', 58.10365359219702)\n",
      "('25th percentile:   ', 20.0)\n",
      "('Median:            ', 47.0)\n",
      "('75th percentile:   ', 85.0)\n",
      "('95th percentile:   ', 149.0)\n",
      "('99th percentile:   ', 213.0)\n"
     ]
    }
   ],
   "source": [
    "ans_start_array = np.array(ans_start)\n",
    "\n",
    "print(\"Min:   \", np.min(ans_start_array))\n",
    "print(\"Max:   \", np.max(ans_start_array))\n",
    "print(\"Mean:   \", np.mean(ans_start_array))\n",
    "print(\"25th percentile:   \", np.percentile(ans_start_array, 25))\n",
    "print(\"Median:            \", np.median(ans_start_array))\n",
    "print(\"75th percentile:   \", np.percentile(ans_start_array, 75))\n",
    "print(\"95th percentile:   \", np.percentile(ans_start_array, 95))\n",
    "print(\"99th percentile:   \", np.percentile(ans_start_array, 99))"
   ]
  },
  {
   "cell_type": "code",
   "execution_count": 62,
   "metadata": {},
   "outputs": [
    {
     "name": "stdout",
     "output_type": "stream",
     "text": [
      "(array([  0,  32,  19, 206,  46,  47,  63, 184,  55,  73]), array([187, 124, 132, 255, 304, 109, 112, 200, 140, 101]))\n",
      "((86326,), (86326,))\n",
      "[ 0.          0.25806452  0.14393939  0.80784314  0.15131579  0.43119266\n",
      "  0.5625      0.92        0.39285714  0.72277228]\n"
     ]
    }
   ],
   "source": [
    "print(ans_start_array[:10], context_array[:10])\n",
    "print(ans_start_array.shape, context_array.shape)\n",
    "ans_start_relative = np.true_divide(ans_start_array, context_array)\n",
    "print(ans_start_relative[:10])"
   ]
  },
  {
   "cell_type": "code",
   "execution_count": 63,
   "metadata": {},
   "outputs": [
    {
     "name": "stdout",
     "output_type": "stream",
     "text": [
      "('Min:   ', 0.0)\n",
      "('Max:   ', 0.99305555555555558)\n",
      "('Mean:   ', 0.42872247066789759)\n",
      "('25th percentile:   ', 0.16216216216216217)\n",
      "('Median:            ', 0.39423076923076922)\n",
      "('75th percentile:   ', 0.67913440817303861)\n",
      "('95th percentile:   ', 0.93000000000000005)\n",
      "('99th percentile:   ', 0.97674418604651159)\n"
     ]
    }
   ],
   "source": [
    "## Relative ans start wrt to context length\n",
    "\n",
    "print(\"Min:   \", np.min(ans_start_relative))\n",
    "print(\"Max:   \", np.max(ans_start_relative))\n",
    "print(\"Mean:   \", np.mean(ans_start_relative))\n",
    "print(\"25th percentile:   \", np.percentile(ans_start_relative, 25))\n",
    "print(\"Median:            \", np.median(ans_start_relative))\n",
    "print(\"75th percentile:   \", np.percentile(ans_start_relative, 75))\n",
    "print(\"95th percentile:   \", np.percentile(ans_start_relative, 95))\n",
    "print(\"99th percentile:   \", np.percentile(ans_start_relative, 99))"
   ]
  },
  {
   "cell_type": "code",
   "execution_count": null,
   "metadata": {},
   "outputs": [],
   "source": []
  }
 ],
 "metadata": {
  "kernelspec": {
   "display_name": "Python 2",
   "language": "python",
   "name": "python2"
  },
  "language_info": {
   "codemirror_mode": {
    "name": "ipython",
    "version": 2
   },
   "file_extension": ".py",
   "mimetype": "text/x-python",
   "name": "python",
   "nbconvert_exporter": "python",
   "pygments_lexer": "ipython2",
   "version": "2.7.12"
  }
 },
 "nbformat": 4,
 "nbformat_minor": 2
}
